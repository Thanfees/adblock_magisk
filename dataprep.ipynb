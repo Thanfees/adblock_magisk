{
  "nbformat": 4,
  "nbformat_minor": 0,
  "metadata": {
    "colab": {
      "provenance": [],
      "mount_file_id": "1eC3ERIXn5lsiMnhWrMwVpcwUbO22BIcC",
      "authorship_tag": "ABX9TyOXqpHFo5pXGjUfRan8mqDl",
      "include_colab_link": true
    },
    "kernelspec": {
      "name": "python3",
      "display_name": "Python 3"
    },
    "language_info": {
      "name": "python"
    }
  },
  "cells": [
    {
      "cell_type": "markdown",
      "metadata": {
        "id": "view-in-github",
        "colab_type": "text"
      },
      "source": [
        "<a href=\"https://colab.research.google.com/github/muhammad-zulfikar/adblock-magisk-module/blob/main/dataprep.ipynb\" target=\"_parent\"><img src=\"https://colab.research.google.com/assets/colab-badge.svg\" alt=\"Open In Colab\"/></a>"
      ]
    },
    {
      "cell_type": "code",
      "source": [
        "# Import pandas library\n",
        "\n",
        "import pandas as pd"
      ],
      "metadata": {
        "id": "4mYuVPJDRWTm"
      },
      "execution_count": 6,
      "outputs": []
    },
    {
      "cell_type": "code",
      "source": [
        "# Read in CSV files as Pandas dataframes\n",
        "\n",
        "companies = pd.read_csv(r'/content/drive/MyDrive/Colab Notebooks/resources/companies.csv')\n",
        "industries = pd.read_csv(r'/content/drive/MyDrive/Colab Notebooks/resources/industries.csv')\n",
        "industries_id = pd.read_csv(r'/content/drive/MyDrive/Colab Notebooks/resources/industries_id.csv')\n",
        "jobs = pd.read_csv(r'/content/drive/MyDrive/Colab Notebooks/resources/job_postings.csv')\n",
        "skills = pd.read_csv(r'/content/drive/MyDrive/Colab Notebooks/resources/skills.csv')\n",
        "skills_id = pd.read_csv(r'/content/drive/MyDrive/Colab Notebooks/resources/skills_id.csv')"
      ],
      "metadata": {
        "id": "NPHBWcO4Rag8"
      },
      "execution_count": 7,
      "outputs": []
    },
    {
      "cell_type": "code",
      "source": [
        "# Join jobs and companies data on company_id\n",
        "\n",
        "jobs = jobs.merge(companies, on='company_id', how = 'left')\n",
        "\n",
        "\n",
        "# Join industries and industries_id on industry_id\n",
        "\n",
        "industries = industries_id.merge(industries, on = 'industry_id', how = 'left')\n",
        "\n",
        "\n",
        "# Join skills and skills_id on skill_abr\n",
        "\n",
        "skills = skills_id.merge(skills, on = 'skill_abr', how = 'left')"
      ],
      "metadata": {
        "id": "ny8gNk9eRd8r"
      },
      "execution_count": 8,
      "outputs": []
    },
    {
      "cell_type": "code",
      "source": [
        "# Remove any duplicated rows\n",
        "\n",
        "jobs = jobs.drop_duplicates()\n",
        "industries = industries.drop_duplicates()\n",
        "skills = skills.drop_duplicates()"
      ],
      "metadata": {
        "id": "_qAOQeg2Rqgy"
      },
      "execution_count": 9,
      "outputs": []
    },
    {
      "cell_type": "code",
      "source": [
        "# Drop unnecessary columns from jobs dataframe\n",
        "\n",
        "jobs = jobs.drop(columns = ['description_x', 'description_y', 'original_listed_time', 'skills_desc', 'job_posting_url', 'application_url', 'application_type', 'expiry', 'closed_time', 'listed_time', 'posting_domain', 'sponsored', 'currency', 'compensation_type', 'scraped', 'zip_code', 'url'])"
      ],
      "metadata": {
        "id": "KbNDmL8zRvDz"
      },
      "execution_count": 10,
      "outputs": []
    },
    {
      "cell_type": "code",
      "source": [
        "# Identify columns with missing values in jobs dataframe\n",
        "\n",
        "jobs_missing = jobs.isnull().sum()\n",
        "jobs_missing = jobs_missing[jobs_missing > 0].sort_values(ascending=False)\n",
        "jobs_missing"
      ],
      "metadata": {
        "colab": {
          "base_uri": "https://localhost:8080/"
        },
        "id": "PZsuTOaYSgFB",
        "outputId": "5faeb73c-3082-401a-9075-80797999c04e"
      },
      "execution_count": 11,
      "outputs": [
        {
          "output_type": "execute_result",
          "data": {
            "text/plain": [
              "med_salary                    31005\n",
              "remote_allowed                28444\n",
              "max_salary                    22135\n",
              "min_salary                    22135\n",
              "pay_period                    19894\n",
              "applies                       17008\n",
              "formatted_experience_level     9181\n",
              "views                          7360\n",
              "company_size                   2150\n",
              "address                         718\n",
              "state                           712\n",
              "name                            705\n",
              "city                            702\n",
              "country                         701\n",
              "company_id                      654\n",
              "dtype: int64"
            ]
          },
          "metadata": {},
          "execution_count": 11
        }
      ]
    },
    {
      "cell_type": "code",
      "source": [
        "# Check for null values in other dataframes\n",
        "\n",
        "industries.isnull().sum()\n",
        "skills.isnull().sum()"
      ],
      "metadata": {
        "colab": {
          "base_uri": "https://localhost:8080/"
        },
        "id": "QE48_uR1Slto",
        "outputId": "f8c62048-e866-4837-ee7c-4c51db183725"
      },
      "execution_count": 12,
      "outputs": [
        {
          "output_type": "execute_result",
          "data": {
            "text/plain": [
              "job_id        0\n",
              "skill_abr     0\n",
              "skill_name    0\n",
              "dtype: int64"
            ]
          },
          "metadata": {},
          "execution_count": 12
        }
      ]
    },
    {
      "cell_type": "code",
      "source": [
        "# Fill missing categorical values with \"Not Specified\"\n",
        "\n",
        "not_specified = ['remote_allowed', 'pay_period', 'formatted_experience_level', 'company_size', 'address', 'state', 'name', 'city', 'country', 'company_id']\n",
        "for col in not_specified:\n",
        "  jobs[col].fillna(\"Not Specified\", inplace = True)\n",
        "\n",
        "not_specified = ['industry_name']\n",
        "for col in not_specified:\n",
        "  industries[col].fillna(\"Not Specified\", inplace = True)\n",
        "\n",
        "\n",
        "# Fill missing numerical values with 0\n",
        "\n",
        "zeros = ['applies', 'views']\n",
        "for col in zeros:\n",
        "  jobs[col].fillna(0, inplace = True)"
      ],
      "metadata": {
        "id": "f1VfvtbySqHO"
      },
      "execution_count": 13,
      "outputs": []
    },
    {
      "cell_type": "code",
      "source": [
        "# Confirm missing values have been handled\n",
        "\n",
        "jobs.isnull().sum()\n",
        "industries.isnull().sum()"
      ],
      "metadata": {
        "colab": {
          "base_uri": "https://localhost:8080/"
        },
        "id": "ImV3B9pUS2Sn",
        "outputId": "1edae38b-ccd3-45ef-c137-65930654d971"
      },
      "execution_count": 14,
      "outputs": [
        {
          "output_type": "execute_result",
          "data": {
            "text/plain": [
              "job_id           0\n",
              "industry_id      0\n",
              "industry_name    0\n",
              "dtype: int64"
            ]
          },
          "metadata": {},
          "execution_count": 14
        }
      ]
    },
    {
      "cell_type": "code",
      "source": [
        "# Export cleaned dataframes to CSV\n",
        "\n",
        "jobs.to_csv(r'/content/drive/MyDrive/Colab Notebooks/resources/output/jobs.csv')\n",
        "skills.to_csv(r'/content/drive/MyDrive/Colab Notebooks/resources/output/skills.csv')\n",
        "industries.to_csv(r'/content/drive/MyDrive/Colab Notebooks/resources/output/industries.csv')"
      ],
      "metadata": {
        "id": "6z83cVt5S7MH"
      },
      "execution_count": 15,
      "outputs": []
    }
  ]
}